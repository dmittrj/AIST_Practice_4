{
 "cells": [
  {
   "cell_type": "markdown",
   "metadata": {},
   "source": [
    "# Практическое задание 4\n",
    "**Поиск решения задачи о компоте с помощью обучения с подкреплением**\n",
    "\n",
    "Для начала определим исходные данные в задаче."
   ]
  },
  {
   "cell_type": "code",
   "execution_count": 49,
   "metadata": {},
   "outputs": [
    {
     "name": "stdout",
     "output_type": "stream",
     "text": [
      "Изначальное состояние стаканов: [7, 9, 3, 7, 9]\n"
     ]
    }
   ],
   "source": [
    "import random as rnd\n",
    "\n",
    "GLASSES_COUNT = 5\n",
    "ORDER = 10\n",
    "NUM_EPISODES = 2000\n",
    "NUM_ATTEMPTS = pow(ORDER, GLASSES_COUNT)\n",
    "ALPHA = 0.8  # Коэффициент обучения\n",
    "GAMMA = 0.95  # Дисконтный фактор\n",
    "INITIAL_GLASSES = []\n",
    "Q = {}\n",
    "for _ in range(GLASSES_COUNT):\n",
    "    INITIAL_GLASSES.append(rnd.randint(1, ORDER))\n",
    "if sum(INITIAL_GLASSES) % GLASSES_COUNT != 0:\n",
    "    INITIAL_GLASSES[GLASSES_COUNT - 1] += GLASSES_COUNT - sum(INITIAL_GLASSES) % GLASSES_COUNT\n",
    "\n",
    "print(\"Изначальное состояние стаканов:\", INITIAL_GLASSES)"
   ]
  },
  {
   "cell_type": "code",
   "execution_count": 50,
   "metadata": {},
   "outputs": [
    {
     "name": "stdout",
     "output_type": "stream",
     "text": [
      "Прогоны 1-100\n",
      "Прогоны 101-200\n",
      "Прогоны 201-300\n",
      "Прогоны 301-400\n",
      "Прогоны 401-500\n",
      "Прогоны 501-600\n",
      "Прогоны 601-700\n",
      "Прогоны 701-800\n",
      "Прогоны 801-900\n",
      "Прогоны 901-1000\n",
      "Прогоны 1001-1100\n",
      "Прогоны 1101-1200\n",
      "Прогоны 1201-1300\n",
      "Прогоны 1301-1400\n",
      "Прогоны 1401-1500\n",
      "Прогоны 1501-1600\n",
      "Прогоны 1601-1700\n",
      "Прогоны 1701-1800\n",
      "Прогоны 1801-1900\n",
      "Прогоны 1901-2000\n"
     ]
    },
    {
     "data": {
      "image/png": "[encoded data removed]",
      "text/plain": [
       "<Figure size 640x480 with 1 Axes>"
      ]
     },
     "metadata": {},
     "output_type": "display_data"
    }
   ],
   "source": [
    "import matplotlib.pyplot as plt\n",
    "\n",
    "glasses = INITIAL_GLASSES\n",
    "\n",
    "def state_to_string(state):\n",
    "    _t = \"\"\n",
    "    for s in state:\n",
    "        _t += f'-{s}'\n",
    "    return _t[1:]\n",
    "\n",
    "def action_to_string(action):\n",
    "    return f'{action[0]}/{action[1]}/{action[2]}'\n",
    "\n",
    "def describe_action(action):\n",
    "    return f'Агент переливает {action[2]} мл. компота из стакана № {action[0]+1} в стакан № {action[1]+1}'\n",
    "\n",
    "def is_equal(glasses):\n",
    "    for i in range(len(glasses)-1):\n",
    "        if glasses[i] != glasses[i+1]:\n",
    "            return False\n",
    "    return True\n",
    "\n",
    "def choose_random_action(glasses):\n",
    "    #print(\"Генерируем случайное действие для: \", glasses)\n",
    "    glass_from = rnd.randint(0, GLASSES_COUNT-1)\n",
    "    #print(\"Выбран стакан 1: \", glass_from)\n",
    "    if glasses[glass_from] == 0:\n",
    "        #print(\"Он пуст...\")\n",
    "        return choose_random_action(glasses)\n",
    "    glass_to = rnd.randint(0, GLASSES_COUNT-2)\n",
    "    if glass_to >= glass_from:\n",
    "        glass_to += 1\n",
    "    #print(\"Выбран стакан 2: \", glass_to)\n",
    "    glass_compote = rnd.randint(1, glasses[glass_from])\n",
    "    #print(\"Решено перелить: \", glass_compote)\n",
    "    return (glass_from, glass_to, glass_compote)\n",
    "\n",
    "def pour_compote(ogl, instruction):\n",
    "    gl = ogl.copy()\n",
    "    if gl[instruction[0]] >= instruction[2]:\n",
    "        gl[instruction[0]] -= instruction[2]\n",
    "        gl[instruction[1]] += instruction[2]\n",
    "    # else:\n",
    "    #     glasses[instruction[1]] += glasses[instruction[0]]\n",
    "    #     glasses[instruction[0]] = 0\n",
    "    return gl\n",
    "\n",
    "def get_all_actions(glasses):\n",
    "    actions = []\n",
    "    for i in range(0, len(glasses)):\n",
    "        for j in range(0, len(glasses)):\n",
    "            if i == j:\n",
    "                continue\n",
    "            for k in range(1, glasses[i]+1):\n",
    "                actions.append(action_to_string((i, j, k)))\n",
    "    return actions\n",
    "\n",
    "#ALL_ACTIONS = get_all_actions(INITIAL_GLASSES)\n",
    "\n",
    "def choose_action(glasses):\n",
    "    state = state_to_string(glasses)\n",
    "    #print(\"Выбираем случайное действие для \", state)\n",
    "    if state not in Q:\n",
    "        #print(\"Такого действия ещё нет, случайная генерация\")\n",
    "        return choose_random_action(glasses)\n",
    "    \n",
    "    max_value = max(Q[state].values())\n",
    "    best_actions = [action for action, value in Q[state].items() if value == max_value]\n",
    "    choice = rnd.choice(best_actions)\n",
    "    return (int(choice.split(\"/\")[0]), int(choice.split(\"/\")[1]), int(choice.split(\"/\")[2]))\n",
    "\n",
    "def update_Q(glasses, action, reward, next_glasses):\n",
    "    state = state_to_string(glasses)\n",
    "    next_state = state_to_string(next_glasses)\n",
    "    if state not in Q:\n",
    "        Q[state] = {}\n",
    "        for a in get_all_actions(glasses):\n",
    "            Q[state][a] = 0\n",
    "\n",
    "    if next_state not in Q:\n",
    "        Q[next_state] = {}\n",
    "        for a in get_all_actions(next_glasses):\n",
    "            Q[next_state][a] = 0\n",
    "\n",
    "    if action not in Q[state]:\n",
    "        ...\n",
    "        #print(action)\n",
    "        #print(state)\n",
    "    \n",
    "    # Q[state][action_to_string(action)] = Q[state][action_to_string(action)] + ALPHA * (reward + GAMMA * max([Q[state].values()]) - Q[state][action_to_string(action)])\n",
    "    Q[state][action] = Q[state][action] + ALPHA * (reward + GAMMA * max(Q[next_state].values()) - Q[state][action])\n",
    "\n",
    "rewards_history = []\n",
    "for ep in range(NUM_EPISODES):\n",
    "    glasses = INITIAL_GLASSES.copy()\n",
    "    # for at in range(NUM_ATTEMPTS):\n",
    "    at = 0\n",
    "    while not is_equal(glasses):\n",
    "        at += 1\n",
    "        #print(\"Состояние стаканов:\", glasses)\n",
    "        if is_equal(glasses):\n",
    "            print(f\"Прогон {ep}: стаканы уравновешены c {at}-й попытки\")\n",
    "            rewards_history.append(at)\n",
    "            break\n",
    "        action = choose_action(glasses)\n",
    "        #print(describe_action(action))\n",
    "        new_glasses = pour_compote(glasses, action)\n",
    "        update_Q(glasses, action_to_string(action), -1, new_glasses)\n",
    "        glasses = new_glasses.copy()\n",
    "    if ep % 100 == 0:\n",
    "        print(f\"Прогоны {ep+1}-{ep+100}\")\n",
    "    rewards_history.append(-at)\n",
    "\n",
    "plt.plot(rewards_history)\n",
    "plt.xlabel('Эпизоды')\n",
    "plt.ylabel('Штраф')\n",
    "plt.title('Кривая обучения')\n",
    "plt.grid(True)\n",
    "plt.show()"
   ]
  },
  {
   "cell_type": "code",
   "execution_count": null,
   "metadata": {},
   "outputs": [],
   "source": [
    "get_all_actions()"
   ]
  },
  {
   "cell_type": "code",
   "execution_count": 51,
   "metadata": {},
   "outputs": [],
   "source": [
    "import json\n",
    "\n",
    "with open(\"Q.txt\", 'w') as file:\n",
    "    json.dump(Q, file)\n",
    "\n",
    "with open(\"rewards_history.txt\", 'w') as file:\n",
    "    json.dump(rewards_history, file)"
   ]
  }
 ],
 "metadata": {
  "kernelspec": {
   "display_name": "Python 3",
   "language": "python",
   "name": "python3"
  },
  "language_info": {
   "codemirror_mode": {
    "name": "ipython",
    "version": 3
   },
   "file_extension": ".py",
   "mimetype": "text/x-python",
   "name": "python",
   "nbconvert_exporter": "python",
   "pygments_lexer": "ipython3",
   "version": "3.13.0"
  }
 },
 "nbformat": 4,
 "nbformat_minor": 2
}
